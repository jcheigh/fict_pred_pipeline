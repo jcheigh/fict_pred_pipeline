{
 "cells": [
  {
   "cell_type": "code",
   "execution_count": 29,
   "metadata": {},
   "outputs": [],
   "source": [
    "import os \n",
    "import json\n",
    "\n",
    "import numpy as np\n",
    "import pandas as pd\n",
    "import matplotlib.pyplot as plt\n",
    "import matplotlib.ticker as ticker\n",
    "import seaborn as sns \n",
    "from sklearn.metrics import r2_score\n",
    "from sklearn.preprocessing import PolynomialFeatures\n",
    "from sklearn.linear_model import LinearRegression\n",
    "from sklearn.ensemble import GradientBoostingClassifier"
   ]
  },
  {
   "cell_type": "code",
   "execution_count": 30,
   "metadata": {},
   "outputs": [],
   "source": [
    "SRC_PATH      = f'/mnt/storage/jcheigh/fictitious-prediction/src'\n",
    "MAIN_PATH     = os.path.dirname(SRC_PATH)               \n",
    "DATA_PATH     = f\"{MAIN_PATH}/data\"\n",
    "CSV_FPATH     = f'{DATA_PATH}/results.csv'\n",
    "PLOT_PATH     = f'{DATA_PATH}/plots'\n",
    "PMETA_FPATH   = f'{DATA_PATH}/plot_metadata.json'"
   ]
  },
  {
   "cell_type": "code",
   "execution_count": 33,
   "metadata": {},
   "outputs": [],
   "source": [
    "data = []\n",
    "\n",
    "with open(f'{DATA_PATH}/data.txt', 'r') as file:\n",
    "    # Read each line in the file\n",
    "    for line in file:\n",
    "        # Convert the line to a float and append it to the list\n",
    "        data.append(float(line.strip()))"
   ]
  },
  {
   "cell_type": "code",
   "execution_count": 47,
   "metadata": {},
   "outputs": [
    {
     "data": {
      "image/png": "[encoded data removed]",
      "text/plain": [
       "<Figure size 640x480 with 1 Axes>"
      ]
     },
     "metadata": {},
     "output_type": "display_data"
    }
   ],
   "source": [
    "data = []\n",
    "\n",
    "with open(f'{DATA_PATH}/data.txt', 'r') as file:\n",
    "    # Read each line in the file\n",
    "    for line in file:\n",
    "        # Convert the line to a float and append it to the list\n",
    "        data.append(float(line.strip()))\n",
    "\n",
    "X = plt.hist(data, bins=40)"
   ]
  },
  {
   "cell_type": "code",
   "execution_count": null,
   "metadata": {},
   "outputs": [],
   "source": [
    "df = pd.read_csv(CSV_FPATH)\n",
    "df.head()"
   ]
  },
  {
   "cell_type": "code",
   "execution_count": null,
   "metadata": {},
   "outputs": [],
   "source": [
    "POP_SIZE = 10000\n",
    "LEX_SIZE = 10\n",
    "SPEECH_LEN = 15\n",
    "ALPHA = 3\n",
    "BETA = 3\n",
    "A_MULT = 2\n",
    "EPSILON = .05\n",
    "NUM_FOLDS = 5 \n",
    "MODEL = GradientBoostingClassifier()\n",
    "SCORING = 'neg_log_loss'\n",
    "\n",
    "def generate():\n",
    "       alpha = a\n",
    "       \n",
    "       \n",
    "       np.full(self.timesteps, self.a_mult)\n",
    "       betas = self.a_mult * (1 - self.rhos) / self.rhos\n",
    "       polar = beta.rvs(alphas[:, np.newaxis], betas[:, np.newaxis], size=(self.timesteps, self.pop_size))\n",
    "       y = (polar >= 0.5).astype(int)\n",
    "\n",
    "       r = self.rhos[:, np.newaxis, np.newaxis]  \n",
    "       polar_expanded = polar[:, :, np.newaxis]  \n",
    "\n",
    "       left_prob    = (polar_expanded * (1 - r - self.epsilon) + (1 - polar_expanded) * r) / self.lex_size\n",
    "       right_prob   = (polar_expanded * r + (1 - r - self.epsilon) * (1 - polar_expanded)) / self.lex_size\n",
    "       neutral_prob = np.full(left_prob.shape, self.epsilon / self.lex_size)\n",
    "\n",
    "       phi = np.concatenate([np.repeat(left_prob, self.lex_size, axis=2),\n",
    "                     np.repeat(right_prob, self.lex_size, axis=2),\n",
    "                     np.repeat(neutral_prob, self.lex_size, axis=2)], axis=2)\n",
    "\n",
    "       X = np.array([[np.random.multinomial(self.speech_len, phi[t, i, :])\n",
    "              for i in range(self.pop_size)] for t in range(self.timesteps)])\n",
    "\n",
    "       data = [(X[t], y[t]) for t in range(self.timesteps)]\n",
    "\n",
    "       return data"
   ]
  }
 ],
 "metadata": {
  "kernelspec": {
   "display_name": "Python 3.11.7 ('fictitious')",
   "language": "python",
   "name": "python3"
  },
  "language_info": {
   "codemirror_mode": {
    "name": "ipython",
    "version": 3
   },
   "file_extension": ".py",
   "mimetype": "text/x-python",
   "name": "python",
   "nbconvert_exporter": "python",
   "pygments_lexer": "ipython3",
   "version": "3.11.7"
  },
  "orig_nbformat": 4,
  "vscode": {
   "interpreter": {
    "hash": "3121cab126e9bc214d9c30934815672d7d73cf142023432050561f8ae595f616"
   }
  }
 },
 "nbformat": 4,
 "nbformat_minor": 2
}
