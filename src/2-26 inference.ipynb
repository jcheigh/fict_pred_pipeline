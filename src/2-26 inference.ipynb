{
 "cells": [
  {
   "cell_type": "markdown",
   "metadata": {},
   "source": [
    "This inference uses 2/10 generation and pyMC"
   ]
  },
  {
   "cell_type": "code",
   "execution_count": 1,
   "metadata": {},
   "outputs": [
    {
     "name": "stdout",
     "output_type": "stream",
     "text": [
      "True Alpha: 12.673684210526261\n",
      "True Beta: 3.1684210526315644\n",
      "True Epsilon: 0.05\n"
     ]
    }
   ],
   "source": [
    "from tqdm import tqdm\n",
    "\n",
    "import matplotlib.pyplot as plt\n",
    "import seaborn as sns \n",
    "from scipy.stats import beta, bernoulli\n",
    "import numpy as np\n",
    "import pymc as pm\n",
    "\n",
    "rho = 0.8\n",
    "pop_size = 5000\n",
    "epsilon = 0.05\n",
    "pi = 0.5\n",
    "\n",
    "def generate(rho=rho,  N=pop_size, epsilon=epsilon, pi=pi):\n",
    "    sigma = 0.175 * (rho ** 2) - 0.3625 * rho + 0.1875\n",
    "    a = rho * ((rho * (1 - rho)) / sigma - 1)\n",
    "    b = (1 - rho) * ((rho * (1 - rho)) / sigma - 1)\n",
    "\n",
    "    weights = [pi, 1-pi]\n",
    "    mixture_samples = np.random.choice([0, 1], size=N, p=weights)\n",
    "    u = 2 * np.where(mixture_samples == 0, beta.rvs(a, b, size=N), beta.rvs(b, a, size=N)) - 1\n",
    "    p_y = (1 + u) / 2  \n",
    "    y = bernoulli.rvs(p_y)  \n",
    "    phi = np.vstack([(1 - (u+1)/2) * (1 - epsilon), (u+1)/2 * (1 - epsilon), np.repeat(epsilon, N)]).T\n",
    "    \n",
    "    # Known and unknown variables\n",
    "    known = (y, phi)\n",
    "    unknown = (a, b, epsilon, u)\n",
    "    \n",
    "    return known, unknown\n",
    "\n",
    "known, unknown = generate()\n",
    "\n",
    "a, b, e, u = unknown\n",
    "y, phi = known\n",
    "print(f\"True Alpha: {a}\")\n",
    "print(f\"True Beta: {b}\")\n",
    "print(f\"True Epsilon: {e}\")\n",
    "\n",
    "def run_inference(y, phi, method='MCMC', steps=1000, tune=500, target_accept=0.95, mu_W=0, sigma_W=3, shape_W=(3, 1)):\n",
    "    with pm.Model() as model:\n",
    "        # Define priors for 'a' and 'b' as random variables to be inferred\n",
    "        a = pm.HalfNormal('a', sigma=10)  # HalfNormal is often used as a prior for scale parameters\n",
    "        b = pm.HalfNormal('b', sigma=10)\n",
    "\n",
    "        # Now 'a' and 'b' are part of the model and will be inferred from the data\n",
    "        u_raw = pm.Mixture('u_raw', w=[0.5, 0.5],\n",
    "                           comp_dists=[pm.Beta.dist(a, b), pm.Beta.dist(b, a)])\n",
    "        u = pm.Deterministic('u', 2 * u_raw - 1)\n",
    "\n",
    "\n",
    "        # Adjusted: Model y based on the new Bernoulli relationship\n",
    "        p_y = pm.Deterministic('p_y', (1 + u) / 2)\n",
    "        y_likelihood = pm.Bernoulli('y_like', p=p_y, observed=y)\n",
    "\n",
    "        # Prior for weights W with the option for prior guesses\n",
    "        W = pm.Normal('W', mu=mu_W, sigma=sigma_W, shape=shape_W)\n",
    "\n",
    "        # Calculate softmax probabilities for the first two categories\n",
    "        softmax_probs = pm.math.softmax(pm.math.dot(u, W), axis=1)\n",
    "        \n",
    "        # Use softmax_probs directly in phi_likelihood\n",
    "        phi_likelihood = pm.Categorical('phi_like', p=softmax_probs, observed=phi)\n",
    "\n",
    "        if method == 'MCMC':\n",
    "            trace = pm.sample(steps, tune=tune, target_accept=target_accept, progressbar=True)\n",
    "            \n",
    "            summary = az.summary(trace)\n",
    "            print(summary)\n",
    "            az.plot_trace(trace)\n",
    "            plt.show()\n",
    "\n",
    "            ppc = pm.sample_posterior_predictive(trace, model=model)\n",
    "            az.plot_ppc(az.from_pymc3(posterior_predictive=ppc, model=model))\n",
    "            plt.show()\n",
    "        elif method == 'VI':\n",
    "            approx = pm.fit(n=steps, method='fullrank_advi', progressbar=True)\n",
    "            trace = approx.sample(draws=steps)\n",
    "            summary = az.summary(trace)\n",
    "            print(summary)\n",
    "            az.plot_trace(trace)\n",
    "            plt.show()\n",
    "\n",
    "            ppc = pm.sample_posterior_predictive(trace, model=model)\n",
    "            print(ppc)\n",
    "\n",
    "    return trace\n"
   ]
  },
  {
   "cell_type": "code",
   "execution_count": 3,
   "metadata": {},
   "outputs": [
    {
     "name": "stderr",
     "output_type": "stream",
     "text": [
      "Auto-assigning NUTS sampler...\n",
      "Initializing NUTS using jitter+adapt_diag...\n",
      "Multiprocess sampling (4 chains in 4 jobs)\n",
      "NUTS: [a, b, u_raw, W]\n"
     ]
    },
    {
     "data": {
      "text/html": [
       "\n",
       "    <div>\n",
       "        <style>\n",
       "            /* Turns off some styling */\n",
       "            progress {\n",
       "                /* gets rid of default border in Firefox and Opera. */\n",
       "                border: none;\n",
       "                /* Needs to be in here for Safari polyfill so background images work as expected. */\n",
       "                background-size: auto;\n",
       "            }\n",
       "            .progress-bar-interrupted, .progress-bar-interrupted::-webkit-progress-bar {\n",
       "                background: #F44336;\n",
       "            }\n",
       "        </style>\n",
       "      <progress value='6000' class='' max='6000' style='width:300px; height:20px; vertical-align: middle;'></progress>\n",
       "      100.00% [6000/6000 00:28<00:00 Sampling 4 chains, 0 divergences]\n",
       "    </div>\n",
       "    "
      ],
      "text/plain": [
       "<IPython.core.display.HTML object>"
      ]
     },
     "metadata": {},
     "output_type": "display_data"
    },
    {
     "name": "stderr",
     "output_type": "stream",
     "text": [
      "Sampling 4 chains for 500 tune and 1_000 draw iterations (2_000 + 4_000 draws total) took 29 seconds.\n"
     ]
    },
    {
     "ename": "NameError",
     "evalue": "name 'az' is not defined",
     "output_type": "error",
     "traceback": [
      "\u001b[0;31m---------------------------------------------------------------------------\u001b[0m",
      "\u001b[0;31mNameError\u001b[0m                                 Traceback (most recent call last)",
      "Cell \u001b[0;32mIn[3], line 1\u001b[0m\n\u001b[0;32m----> 1\u001b[0m trace \u001b[39m=\u001b[39m run_inference(y, phi, method\u001b[39m=\u001b[39m\u001b[39m'\u001b[39m\u001b[39mMCMC\u001b[39m\u001b[39m'\u001b[39m)\n",
      "Cell \u001b[0;32mIn[1], line 68\u001b[0m, in \u001b[0;36mrun_inference\u001b[0;34m(y, phi, method, steps, tune, target_accept, mu_W, sigma_W, shape_W)\u001b[0m\n\u001b[1;32m     65\u001b[0m \u001b[39mif\u001b[39;00m method \u001b[39m==\u001b[39m \u001b[39m'\u001b[39m\u001b[39mMCMC\u001b[39m\u001b[39m'\u001b[39m:\n\u001b[1;32m     66\u001b[0m     trace \u001b[39m=\u001b[39m pm\u001b[39m.\u001b[39msample(steps, tune\u001b[39m=\u001b[39mtune, target_accept\u001b[39m=\u001b[39mtarget_accept, progressbar\u001b[39m=\u001b[39m\u001b[39mTrue\u001b[39;00m)\n\u001b[0;32m---> 68\u001b[0m     summary \u001b[39m=\u001b[39m az\u001b[39m.\u001b[39msummary(trace)\n\u001b[1;32m     69\u001b[0m     \u001b[39mprint\u001b[39m(summary)\n\u001b[1;32m     70\u001b[0m     az\u001b[39m.\u001b[39mplot_trace(trace)\n",
      "\u001b[0;31mNameError\u001b[0m: name 'az' is not defined"
     ]
    }
   ],
   "source": [
    "trace = run_inference(y, phi, method='MCMC')"
   ]
  },
  {
   "cell_type": "code",
   "execution_count": null,
   "metadata": {},
   "outputs": [],
   "source": []
  }
 ],
 "metadata": {
  "kernelspec": {
   "display_name": "Python 3.11.8 ('pymc_env')",
   "language": "python",
   "name": "python3"
  },
  "language_info": {
   "codemirror_mode": {
    "name": "ipython",
    "version": 3
   },
   "file_extension": ".py",
   "mimetype": "text/x-python",
   "name": "python",
   "nbconvert_exporter": "python",
   "pygments_lexer": "ipython3",
   "version": "3.11.8"
  },
  "orig_nbformat": 4,
  "vscode": {
   "interpreter": {
    "hash": "314398796f4a67be07cfb72fc2092a9f23593aca7769f3685c9d0dfe1f5d1e0b"
   }
  }
 },
 "nbformat": 4,
 "nbformat_minor": 2
}
